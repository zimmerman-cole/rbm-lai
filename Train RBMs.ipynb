{
 "cells": [
  {
   "cell_type": "markdown",
   "metadata": {
    "heading_collapsed": true
   },
   "source": [
    "# Imports, load data"
   ]
  },
  {
   "cell_type": "code",
   "execution_count": 1,
   "metadata": {
    "hidden": true
   },
   "outputs": [],
   "source": [
    "import time\n",
    "import warnings\n",
    "from collections import namedtuple\n",
    "import os\n",
    "import pickle as pkl\n",
    "import ast\n",
    "\n",
    "from IPython.display import display, clear_output\n",
    "from ipywidgets import IntProgress\n",
    "\n",
    "import numpy as np\n",
    "import matplotlib.pyplot as plt\n",
    "\n",
    "from src.rbm import RBM\n",
    "from src.utils import load_model"
   ]
  },
  {
   "cell_type": "code",
   "execution_count": 2,
   "metadata": {
    "hidden": true
   },
   "outputs": [],
   "source": [
    "%load_ext autoreload\n",
    "%autoreload 2"
   ]
  },
  {
   "cell_type": "code",
   "execution_count": 15,
   "metadata": {
    "hidden": true
   },
   "outputs": [
    {
     "name": "stdout",
     "output_type": "stream",
     "text": [
      "[0] {'ni': '3', 'bs': '10', 'note': 'td50', 'nc': '50', 'lr': '0.05', 'pop': 'EAS.p'}\n",
      "[1] {'ni': '3', 'bs': '10', 'note': 'td50', 'nc': '50', 'lr': '0.05', 'pop': 'EUR.p'}\n",
      "[2] {'ni': '3', 'bs': '10', 'note': 'td50', 'nc': '50', 'lr': '0.05', 'pop': 'AFR.p'}\n",
      "[3] {'ni': '3', 'bs': '10', 'note': 'td50', 'nc': '50', 'lr': '0.05', 'pop': 'AMR.p'}\n",
      "Which file number?1\n"
     ]
    }
   ],
   "source": [
    "rbm_AFR = load_model()"
   ]
  },
  {
   "cell_type": "code",
   "execution_count": 16,
   "metadata": {
    "hidden": true
   },
   "outputs": [],
   "source": [
    "H_AFR = np.loadtxt('data/H_AFR.txt')\n",
    "H_AMR = np.loadtxt('data/H_AMR.txt')\n",
    "H_EAS = np.loadtxt('data/H_EAS.txt')\n",
    "H_EUR = np.loadtxt('data/H_EUR.txt')"
   ]
  },
  {
   "cell_type": "markdown",
   "metadata": {
    "heading_collapsed": true
   },
   "source": [
    "# Train"
   ]
  },
  {
   "cell_type": "code",
   "execution_count": 4,
   "metadata": {
    "hidden": true
   },
   "outputs": [
    {
     "name": "stdout",
     "output_type": "stream",
     "text": [
      "[RBM] Iteration 1, pseudo-likelihood = -2510.76, time = 1.29s\n",
      "[RBM] Iteration 2, pseudo-likelihood = -4752.79, time = 1.38s\n",
      "[RBM] Iteration 3, pseudo-likelihood = -5547.47, time = 1.47s\n",
      "Saved RBM(batch_size=10, learning_rate=0.05, n_components=50, n_iter=3, note='td50',\n",
      "  population='AFR', random_state=None, verbose=True)\n",
      "[RBM] Iteration 1, pseudo-likelihood = -9718.40, time = 0.95s\n",
      "[RBM] Iteration 2, pseudo-likelihood = -6023.31, time = 1.09s\n",
      "[RBM] Iteration 3, pseudo-likelihood = -4964.54, time = 1.22s\n",
      "Saved RBM(batch_size=10, learning_rate=0.05, n_components=50, n_iter=3, note='td50',\n",
      "  population='AMR', random_state=None, verbose=True)\n",
      "[RBM] Iteration 1, pseudo-likelihood = -9511.87, time = 1.49s\n",
      "[RBM] Iteration 2, pseudo-likelihood = -4505.47, time = 1.60s\n",
      "[RBM] Iteration 3, pseudo-likelihood = -3324.37, time = 1.61s\n",
      "Saved RBM(batch_size=10, learning_rate=0.05, n_components=50, n_iter=3, note='td50',\n",
      "  population='EAS', random_state=None, verbose=True)\n",
      "[RBM] Iteration 1, pseudo-likelihood = -4880.25, time = 2.00s\n",
      "[RBM] Iteration 2, pseudo-likelihood = -4978.04, time = 2.08s\n",
      "[RBM] Iteration 3, pseudo-likelihood = -2257.75, time = 2.06s\n",
      "Saved RBM(batch_size=10, learning_rate=0.05, n_components=50, n_iter=3, note='td50',\n",
      "  population='EUR', random_state=None, verbose=True)\n"
     ]
    }
   ],
   "source": [
    "p2H = {'AFR': H_AFR, 'AMR': H_AMR, 'EAS': H_EAS, 'EUR': H_EUR}\n",
    "\n",
    "params = [\n",
    "    {'n_components': 50, 'n_iter': 3, 'learning_rate': 0.05, 'population': p, \n",
    "     'verbose': True, 'note': 'td50'} for p in ['AFR', 'AMR', 'EAS', 'EUR']\n",
    "]\n",
    "\n",
    "for p_dict in params:\n",
    "    rbm = RBM(**p_dict)\n",
    "    H = p2H[p_dict['population']][:-50]\n",
    "    rbm.fit(p2H[p_dict['population']])\n",
    "    rbm.save()"
   ]
  },
  {
   "cell_type": "markdown",
   "metadata": {},
   "source": [
    "# Impute"
   ]
  },
  {
   "cell_type": "code",
   "execution_count": 18,
   "metadata": {
    "code_folding": []
   },
   "outputs": [
    {
     "data": {
      "application/vnd.jupyter.widget-view+json": {
       "model_id": "",
       "version_major": 2,
       "version_minor": 0
      },
      "text/plain": [
       "IntProgress(value=0, max=16285)"
      ]
     },
     "metadata": {},
     "output_type": "display_data"
    },
    {
     "ename": "TypeError",
     "evalue": "file must have a 'write' attribute",
     "output_type": "error",
     "traceback": [
      "\u001b[0;31m---------------------------------------------------------------------------\u001b[0m",
      "\u001b[0;31mTypeError\u001b[0m                                 Traceback (most recent call last)",
      "\u001b[0;32m<ipython-input-18-75cc7d22c43d>\u001b[0m in \u001b[0;36m<module>\u001b[0;34m()\u001b[0m\n\u001b[1;32m     41\u001b[0m \u001b[0;34m\u001b[0m\u001b[0m\n\u001b[1;32m     42\u001b[0m \u001b[0mf\u001b[0m \u001b[0;34m=\u001b[0m \u001b[0mopen\u001b[0m\u001b[0;34m(\u001b[0m\u001b[0;34m'data/imputations_t50.p'\u001b[0m\u001b[0;34m,\u001b[0m \u001b[0;34m'wb'\u001b[0m\u001b[0;34m)\u001b[0m\u001b[0;34m\u001b[0m\u001b[0m\n\u001b[0;32m---> 43\u001b[0;31m \u001b[0mpkl\u001b[0m\u001b[0;34m.\u001b[0m\u001b[0mdump\u001b[0m\u001b[0;34m(\u001b[0m\u001b[0mresults\u001b[0m\u001b[0;34m,\u001b[0m \u001b[0;34m'wb'\u001b[0m\u001b[0;34m)\u001b[0m\u001b[0;34m\u001b[0m\u001b[0m\n\u001b[0m\u001b[1;32m     44\u001b[0m \u001b[0mf\u001b[0m\u001b[0;34m.\u001b[0m\u001b[0mclose\u001b[0m\u001b[0;34m(\u001b[0m\u001b[0;34m)\u001b[0m\u001b[0;34m\u001b[0m\u001b[0m\n",
      "\u001b[0;31mTypeError\u001b[0m: file must have a 'write' attribute"
     ]
    }
   ],
   "source": [
    "m = H_AFR.shape[1]\n",
    "\n",
    "H_valid = np.zeros((0, m))\n",
    "for H in [H_AFR, H_AMR, H_EUR, H_EAS]:\n",
    "    H_valid = np.vstack([H_valid, H[-50:, :]])\n",
    "\n",
    "results = dict()\n",
    "for k in ['AFR', 'EUR', 'EAS', 'AMR']:\n",
    "    results[k] = np.zeros((H_valid.shape[0], 0))\n",
    "\n",
    "prog = IntProgress(value=0, max=m)\n",
    "display(prog)\n",
    "\n",
    "for fname in os.listdir('./saved_models/'):\n",
    "    f = open('saved_models/%s' % fname, 'rb')\n",
    "    rbm = pkl.load(f)\n",
    "    f.close()\n",
    "    \n",
    "    if rbm.population != 'EUR':\n",
    "        continue\n",
    "    \n",
    "    results['model_info'].append(str(rbm))\n",
    "    print(str(rbm))\n",
    "    \n",
    "    prog.value = 0\n",
    "    \n",
    "    for col in range(m):\n",
    "        out = rbm.impute(H_valid, position=col).reshape(-1, 1)\n",
    "        results[rbm.population] = np.hstack([results[rbm.population], out])\n",
    "        prog.value += 1\n",
    "        \n",
    "    fpath = 'data/imputations_t50_TMP.p'\n",
    "    f = open(fpath, 'wb')\n",
    "    pkl.dump(results, f)\n",
    "    f.close()\n",
    "        \n",
    "prog.close()\n",
    "\n",
    "f = open('data/imputations_t50.p', 'wb')\n",
    "pkl.dump(results, f)\n",
    "f.close()"
   ]
  },
  {
   "cell_type": "markdown",
   "metadata": {
    "heading_collapsed": true
   },
   "source": [
    "# Visualize"
   ]
  },
  {
   "cell_type": "code",
   "execution_count": null,
   "metadata": {
    "hidden": true
   },
   "outputs": [],
   "source": [
    "def sigmoid(x):\n",
    "    return 1. / (1. + np.exp(-x))\n",
    "\n",
    "def free_energy(rbm, v, eps=1e-5):\n",
    "    \"\"\"\n",
    "    TODO: doc\n",
    "    \"\"\"\n",
    "    a = rbm.intercept_visible_\n",
    "    v = v.reshape(-1, len(a))\n",
    "    n = v.shape[0]\n",
    "    \n",
    "    term1 = -np.dot(v, a)\n",
    "    \n",
    "    b = rbm.intercept_hidden_\n",
    "    W = rbm.components_\n",
    "    x = b + np.dot(v, W.T)\n",
    "    p = sigmoid(x)\n",
    "    \n",
    "    p = np.clip(p, eps, 1-eps)\n",
    "    \n",
    "    term2 = -(x * p).sum(axis=1)\n",
    "    \n",
    "    term3 = np.sum(p * np.log(p) + (1. - p) * np.log(1. - p), axis=1)\n",
    "    \n",
    "    return term1 + term2 + term3\n",
    "    \n",
    "    \n",
    "v_AFR = H_AFR[100]\n",
    "v_EUR = H_EUR[100]\n",
    "v_EAS = H_EAS[100]\n",
    "v_AMR = H_AMR[100]\n",
    "\n",
    "Fv_AFR = free_energy(rbm, H_AFR)\n",
    "Fv_EUR = free_energy(rbm, H_EUR)\n",
    "Fv_AMR = free_energy(rbm, H_AMR)\n",
    "Fv_EAS = free_energy(rbm, H_EAS)\n",
    "\n",
    "f, ax = plt.subplots(figsize=(12, 7))\n",
    "# ax.scatter(range(len(Fv_AFR)), Fv_AFR, label='AFR')\n",
    "# ax.scatter(range(len(Fv_EUR)), Fv_EUR, label='EUR')\n",
    "# ax.scatter(range(len(Fv_AMR)), Fv_AMR, label='AMR')\n",
    "# ax.scatter(range(len(Fv_EAS)), Fv_EAS, label='EAS')\n",
    "\n",
    "ax.scatter(Fv_AFR, [0]*len(Fv_AFR), label='AFR')\n",
    "ax.scatter(Fv_EUR, [1]*len(Fv_EUR), label='EUR')\n",
    "ax.scatter(Fv_AMR, [2]*len(Fv_AMR), label='AMR')\n",
    "ax.scatter(Fv_EAS, [3]*len(Fv_EAS), label='EAS')\n",
    "\n",
    "plt.legend()\n",
    "plt.show()\n",
    "print('AFR: %f' % free_energy(rbm, H_AFR).min())\n",
    "print('EUR: %f' % free_energy(rbm, H_EUR).min())\n",
    "print('EAS: %f' % free_energy(rbm, H_EAS).min())\n",
    "print('AMR: %f' % free_energy(rbm, H_AMR).min())"
   ]
  },
  {
   "cell_type": "code",
   "execution_count": null,
   "metadata": {
    "hidden": true
   },
   "outputs": [],
   "source": [
    "mx = 6151\n",
    "mn = 4060\n",
    "\n",
    "bins = np.linspace(mn, mx, 50)\n",
    "\n",
    "hist_AFR, _ = np.histogram(Fv_AFR, bins=bins)\n",
    "hist_EUR, _ = np.histogram(Fv_EUR, bins=bins)\n",
    "hist_AMR, _ = np.histogram(Fv_AMR, bins=bins)\n",
    "hist_EAS, _ = np.histogram(Fv_EAS, bins=bins)\n",
    "\n",
    "# print(hist_AFR.shape)\n",
    "\n",
    "# # h_ALL = hist_AFR + hist_EUR + hist_AMR + hist_EAS\n",
    "\n",
    "# for i in range(len(h_ALL)):\n",
    "#     s = hist_AFR[i] + hist_AMR[i] + hist_EAS[i] + hist_EUR[i]\n",
    "#     hist_AFR[i] /= s\n",
    "#     hist_AMR[i] /= s\n",
    "#     hist_EAS[i] /= s\n",
    "#     hist_EUR[i] /= s\n",
    "\n",
    "f, ax = plt.subplots(figsize=(12, 7))\n",
    "\n",
    "for i in range(len(bins) - 1):\n",
    "    bs, be = bins[i], bins[i+1]\n",
    "    \n",
    "    bottom = 0\n",
    "    p_AFR = hist_AFR[i] / h_ALL[i]\n",
    "    lg = 'AFR' if i == 0 else None\n",
    "    ax.fill_between(\n",
    "        [bs, be], [bottom, bottom], [p_AFR, p_AFR], color='blue', label=lg\n",
    "    )\n",
    "    \n",
    "    bottom += p_AFR\n",
    "    p_AMR = hist_AMR[i] / h_ALL[i]\n",
    "    lg = 'AMR' if i == 0 else None\n",
    "    ax.fill_between(\n",
    "        [bs, be], [bottom, bottom], [bottom+p_AMR, bottom+p_AMR], \n",
    "        color='green', label=lg\n",
    "    )\n",
    "    \n",
    "    bottom += p_AMR\n",
    "    p_EUR = hist_EUR[i] / h_ALL[i]\n",
    "    lg = 'EUR' if i == 0 else None\n",
    "    ax.fill_between(\n",
    "        [bs, be], [bottom, bottom], [bottom+p_EUR, bottom+p_EUR], \n",
    "        color='orange', label=lg\n",
    "    )\n",
    "    \n",
    "    bottom += p_EUR\n",
    "    p_EAS = hist_EUR[i] / h_ALL[i]\n",
    "    lg = 'EAS' if i == 0 else None\n",
    "    ax.fill_between(\n",
    "        [bs, be], [bottom, bottom], [bottom+p_EAS, bottom+p_EAS], \n",
    "        color='red', label=lg\n",
    "    )\n",
    "    \n",
    "#     print(i, p_AFR, p_AMR, p_EUR, p_EAS)\n",
    "    \n",
    "plt.legend()\n",
    "plt.show()"
   ]
  }
 ],
 "metadata": {
  "kernelspec": {
   "display_name": "Python 3",
   "language": "python",
   "name": "python3"
  },
  "language_info": {
   "codemirror_mode": {
    "name": "ipython",
    "version": 3
   },
   "file_extension": ".py",
   "mimetype": "text/x-python",
   "name": "python",
   "nbconvert_exporter": "python",
   "pygments_lexer": "ipython3",
   "version": "3.5.2"
  },
  "varInspector": {
   "cols": {
    "lenName": 16,
    "lenType": 16,
    "lenVar": 40
   },
   "kernels_config": {
    "python": {
     "delete_cmd_postfix": "",
     "delete_cmd_prefix": "del ",
     "library": "var_list.py",
     "varRefreshCmd": "print(var_dic_list())"
    },
    "r": {
     "delete_cmd_postfix": ") ",
     "delete_cmd_prefix": "rm(",
     "library": "var_list.r",
     "varRefreshCmd": "cat(var_dic_list()) "
    }
   },
   "types_to_exclude": [
    "module",
    "function",
    "builtin_function_or_method",
    "instance",
    "_Feature"
   ],
   "window_display": false
  }
 },
 "nbformat": 4,
 "nbformat_minor": 2
}
