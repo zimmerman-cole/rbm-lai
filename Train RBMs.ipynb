{
 "cells": [
  {
   "cell_type": "markdown",
   "metadata": {
    "heading_collapsed": true
   },
   "source": [
    "# Imports, load data"
   ]
  },
  {
   "cell_type": "code",
   "execution_count": 1,
   "metadata": {
    "hidden": true
   },
   "outputs": [],
   "source": [
    "import time\n",
    "import warnings\n",
    "from collections import namedtuple\n",
    "import os\n",
    "import pickle as pkl\n",
    "import ast\n",
    "\n",
    "from IPython.display import display, clear_output\n",
    "from ipywidgets import IntProgress\n",
    "\n",
    "import numpy as np\n",
    "import matplotlib.pyplot as plt\n",
    "\n",
    "from src.rbm import RBM\n",
    "from src.utils import load_model, progress_bar"
   ]
  },
  {
   "cell_type": "code",
   "execution_count": 2,
   "metadata": {
    "hidden": true
   },
   "outputs": [],
   "source": [
    "%load_ext autoreload\n",
    "%autoreload 2"
   ]
  },
  {
   "cell_type": "code",
   "execution_count": 3,
   "metadata": {
    "hidden": true
   },
   "outputs": [],
   "source": [
    "H_AFR = np.loadtxt('data/H_AFR.txt')\n",
    "H_AMR = np.loadtxt('data/H_AMR.txt')\n",
    "H_EAS = np.loadtxt('data/H_EAS.txt')\n",
    "H_EUR = np.loadtxt('data/H_EUR.txt')"
   ]
  },
  {
   "cell_type": "markdown",
   "metadata": {},
   "source": [
    "# Train"
   ]
  },
  {
   "cell_type": "code",
   "execution_count": 6,
   "metadata": {},
   "outputs": [
    {
     "name": "stdout",
     "output_type": "stream",
     "text": [
      "[RBM] Iteration 1, pseudo-likelihood = -5027.97, time = 1.08s\n",
      "[RBM] Iteration 2, pseudo-likelihood = -4038.59, time = 1.08s\n",
      "[RBM] Iteration 3, pseudo-likelihood = -4740.47, time = 1.06s\n",
      "[RBM] Iteration 4, pseudo-likelihood = -4234.92, time = 1.04s\n",
      "[RBM] Iteration 5, pseudo-likelihood = -4024.94, time = 1.05s\n",
      "[RBM] Iteration 6, pseudo-likelihood = -3759.40, time = 1.13s\n",
      "Saved RBM(batch_size=10, learning_rate=0.03, n_components=100, n_iter=6,\n",
      "  note='td50', population='AFR', random_state=None, verbose=True)\n",
      "[RBM] Iteration 1, pseudo-likelihood = -5069.79, time = 0.73s\n",
      "[RBM] Iteration 2, pseudo-likelihood = -5013.42, time = 0.76s\n",
      "[RBM] Iteration 3, pseudo-likelihood = -4778.61, time = 0.92s\n",
      "[RBM] Iteration 4, pseudo-likelihood = -4480.12, time = 0.81s\n",
      "[RBM] Iteration 5, pseudo-likelihood = -3748.45, time = 0.75s\n",
      "[RBM] Iteration 6, pseudo-likelihood = -4302.80, time = 0.75s\n",
      "Saved RBM(batch_size=10, learning_rate=0.03, n_components=100, n_iter=6,\n",
      "  note='td50', population='AMR', random_state=None, verbose=True)\n",
      "[RBM] Iteration 1, pseudo-likelihood = -5164.19, time = 1.20s\n",
      "[RBM] Iteration 2, pseudo-likelihood = -4244.86, time = 1.27s\n",
      "[RBM] Iteration 3, pseudo-likelihood = -4036.58, time = 1.19s\n",
      "[RBM] Iteration 4, pseudo-likelihood = -3875.55, time = 1.21s\n",
      "[RBM] Iteration 5, pseudo-likelihood = -3961.73, time = 1.19s\n",
      "[RBM] Iteration 6, pseudo-likelihood = -4056.90, time = 1.20s\n",
      "Saved RBM(batch_size=10, learning_rate=0.03, n_components=100, n_iter=6,\n",
      "  note='td50', population='EAS', random_state=None, verbose=True)\n",
      "[RBM] Iteration 1, pseudo-likelihood = -4056.03, time = 1.48s\n",
      "[RBM] Iteration 2, pseudo-likelihood = -3926.69, time = 2.21s\n",
      "[RBM] Iteration 3, pseudo-likelihood = -3960.08, time = 1.59s\n",
      "[RBM] Iteration 4, pseudo-likelihood = -3719.32, time = 1.59s\n",
      "[RBM] Iteration 5, pseudo-likelihood = -3902.81, time = 1.64s\n",
      "[RBM] Iteration 6, pseudo-likelihood = -3758.61, time = 1.64s\n",
      "Saved RBM(batch_size=10, learning_rate=0.03, n_components=100, n_iter=6,\n",
      "  note='td50', population='EUR', random_state=None, verbose=True)\n"
     ]
    }
   ],
   "source": [
    "p2H = {'AFR': H_AFR, 'AMR': H_AMR, 'EAS': H_EAS, 'EUR': H_EUR}\n",
    "\n",
    "params = [\n",
    "    {'n_components': 100, 'n_iter': 6, 'learning_rate': 0.03, 'population': p, \n",
    "     'verbose': True, 'note': 'td50'} for p in ['AFR', 'AMR', 'EAS', 'EUR']\n",
    "]\n",
    "\n",
    "rbm_dict = dict()\n",
    "for p_dict in params:\n",
    "    rbm = RBM(**p_dict)\n",
    "    H = p2H[p_dict['population']][:-50]\n",
    "    rbm.fit(p2H[p_dict['population']])\n",
    "    rbm.save()\n",
    "    \n",
    "    rbm_dict[p_dict['population']] = rbm"
   ]
  },
  {
   "cell_type": "markdown",
   "metadata": {},
   "source": [
    "# Impute"
   ]
  },
  {
   "cell_type": "code",
   "execution_count": 8,
   "metadata": {
    "code_folding": []
   },
   "outputs": [
    {
     "data": {
      "application/vnd.jupyter.widget-view+json": {
       "model_id": "",
       "version_major": 2,
       "version_minor": 0
      },
      "text/plain": [
       "IntProgress(value=0, max=7596)"
      ]
     },
     "metadata": {},
     "output_type": "display_data"
    },
    {
     "name": "stdout",
     "output_type": "stream",
     "text": [
      "RBM(batch_size=10, learning_rate=0.03, n_components=100, n_iter=6,\n",
      "  note='td50', population='EUR', random_state=None, verbose=True)\n",
      "RBM(batch_size=10, learning_rate=0.03, n_components=100, n_iter=6,\n",
      "  note='td50', population='AMR', random_state=None, verbose=True)\n",
      "RBM(batch_size=10, learning_rate=0.03, n_components=100, n_iter=6,\n",
      "  note='td50', population='EAS', random_state=None, verbose=True)\n",
      "RBM(batch_size=10, learning_rate=0.03, n_components=100, n_iter=6,\n",
      "  note='td50', population='AFR', random_state=None, verbose=True)\n"
     ]
    }
   ],
   "source": [
    "m = H_AFR.shape[1]\n",
    "\n",
    "H_valid = np.zeros((0, m))\n",
    "for H in [H_AFR, H_AMR, H_EUR, H_EAS]:\n",
    "    H_valid = np.vstack([H_valid, H[-50:, :]])\n",
    "\n",
    "results = dict()\n",
    "for k in ['AFR', 'EUR', 'EAS', 'AMR']:\n",
    "    results[k] = np.zeros((H_valid.shape[0], 0))\n",
    "    \n",
    "results['model_info'] = []\n",
    "results['H_valid_info'] = 'AFR=[0,50]; EUR=[50,100]; EAS=[100,150]; AMR=[150, 200]'\n",
    "\n",
    "prog = IntProgress(value=0, max=m)\n",
    "display(prog)\n",
    "\n",
    "for pop, rbm in rbm_dict.items():\n",
    "    \n",
    "    results['model_info'].append(str(rbm))\n",
    "    print(str(rbm))\n",
    "    \n",
    "    prog.value = 0\n",
    "    \n",
    "    for col in range(m):\n",
    "        out = rbm.impute(H_valid, position=col).reshape(-1, 1)\n",
    "        results[rbm.population] = np.hstack([results[rbm.population], out])\n",
    "        prog.value += 1\n",
    "        \n",
    "    fpath = 'data/imputations_t50_TMP.p'\n",
    "    f = open(fpath, 'wb')\n",
    "    pkl.dump(results, f)\n",
    "    f.close()\n",
    "        \n",
    "prog.close()\n",
    "\n",
    "f = open('data/imputations_t50.p', 'wb')\n",
    "pkl.dump(results, f)\n",
    "f.close()"
   ]
  },
  {
   "cell_type": "markdown",
   "metadata": {},
   "source": [
    "# Visualize"
   ]
  },
  {
   "cell_type": "code",
   "execution_count": 28,
   "metadata": {},
   "outputs": [
    {
     "name": "stdout",
     "output_type": "stream",
     "text": [
      "[1] {'lr': '0.05', 'ni': '3', 'nc': '100', 'bs': '10', 'pop': 'EUR.p', 'note': 'td50'}\n",
      "[2] {'lr': '0.05', 'ni': '3', 'nc': '100', 'bs': '10', 'pop': 'EAS.p', 'note': 'td50'}\n",
      "[3] {'lr': '0.05', 'ni': '3', 'nc': '100', 'bs': '10', 'pop': 'AFR.p', 'note': 'td50'}\n",
      "[7] {'lr': '0.05', 'ni': '3', 'nc': '100', 'bs': '10', 'pop': 'AMR.p', 'note': 'td50'}\n",
      "Which file number?\n",
      "7\n"
     ]
    },
    {
     "data": {
      "image/png": "[encoded data removed]",
      "text/plain": [
       "<Figure size 864x504 with 1 Axes>"
      ]
     },
     "metadata": {},
     "output_type": "display_data"
    },
    {
     "name": "stdout",
     "output_type": "stream",
     "text": [
      "AFR: 454.903579\n",
      "EUR: 370.135028\n",
      "EAS: 473.735209\n",
      "AMR: 382.147804\n"
     ]
    }
   ],
   "source": [
    "rbm = load_model(min_units=60)\n",
    "v_AFR = H_AFR[100]\n",
    "v_EUR = H_EUR[100]\n",
    "v_EAS = H_EAS[100]\n",
    "v_AMR = H_AMR[100]\n",
    "\n",
    "Fv_AFR = rbm.free_energy(H_AFR)\n",
    "Fv_EUR = rbm.free_energy(H_EUR)\n",
    "Fv_AMR = rbm.free_energy(H_AMR)\n",
    "Fv_EAS = rbm.free_energy(H_EAS)\n",
    "\n",
    "f, ax = plt.subplots(figsize=(12, 7))\n",
    "\n",
    "def noise(arr):\n",
    "    arr = np.array(arr)\n",
    "    return arr + np.random.randn(*arr.shape) * 0.1\n",
    "\n",
    "# ============================================\n",
    "ax.scatter(Fv_AFR, noise([0]*len(Fv_AFR)), label='AFR', c='blue')\n",
    "q25 = sorted(Fv_AFR)[int(len(Fv_AFR) / 4)]\n",
    "ax.plot([q25, q25], [-.5, .5], color='blue', zorder=5)\n",
    "q75 = sorted(Fv_AFR)[3 * int(len(Fv_AFR) / 4)]\n",
    "ax.plot([q75, q75], [-.5, .5], color='blue', zorder=5)\n",
    "\n",
    "ax.scatter(Fv_EUR, noise([1]*len(Fv_EUR)), label='EUR', c='orange')\n",
    "q25 = sorted(Fv_EUR)[int(len(Fv_EUR) / 4)]\n",
    "ax.plot([q25, q25], [.5, 1.5], color='orange', zorder=5)\n",
    "q75 = sorted(Fv_EUR)[3 * int(len(Fv_EUR) / 4)]\n",
    "ax.plot([q75, q75], [.5, 1.5], color='orange', zorder=5)\n",
    "\n",
    "ax.scatter(Fv_AMR, noise([2]*len(Fv_AMR)), label='AMR', c='green')\n",
    "q25 = sorted(Fv_AMR)[int(len(Fv_AMR) / 4)]\n",
    "ax.plot([q25, q25], [1.5, 2.5], color='green', zorder=5)\n",
    "q75 = sorted(Fv_AMR)[3 * int(len(Fv_AMR) / 4)]\n",
    "ax.plot([q75, q75], [1.5, 2.5], color='green', zorder=5)\n",
    "\n",
    "ax.scatter(Fv_EAS, noise([3]*len(Fv_EAS)), label='EAS', c='red')\n",
    "q25 = sorted(Fv_EAS)[int(len(Fv_EAS) / 4)]\n",
    "ax.plot([q25, q25], [2.5, 3.5], color='red', zorder=5)\n",
    "q75 = sorted(Fv_EAS)[3 * int(len(Fv_EAS) / 4)]\n",
    "ax.plot([q75, q75], [2.5, 3.5], color='red', zorder=5)\n",
    "# ============================================\n",
    "\n",
    "ax.set_title('RBM for population %s' % rbm.population)\n",
    "plt.legend()\n",
    "plt.show()\n",
    "\n",
    "\n",
    "print('AFR: %f' % Fv_AFR.min())\n",
    "print('EUR: %f' % Fv_EUR.min())\n",
    "print('EAS: %f' % Fv_EAS.min())\n",
    "print('AMR: %f' % Fv_AMR.min())"
   ]
  },
  {
   "cell_type": "code",
   "execution_count": 20,
   "metadata": {},
   "outputs": [
    {
     "name": "stderr",
     "output_type": "stream",
     "text": [
      "/home/cole/.virtualenvs/RL/lib/python3.5/site-packages/ipykernel_launcher.py:17: RuntimeWarning: invalid value encountered in long_scalars\n"
     ]
    },
    {
     "ename": "ValueError",
     "evalue": "cannot convert float NaN to integer",
     "output_type": "error",
     "traceback": [
      "\u001b[0;31m---------------------------------------------------------------------------\u001b[0m",
      "\u001b[0;31mValueError\u001b[0m                                Traceback (most recent call last)",
      "\u001b[0;32m<ipython-input-20-9e2f1f5a41e0>\u001b[0m in \u001b[0;36m<module>\u001b[0;34m()\u001b[0m\n\u001b[1;32m     15\u001b[0m \u001b[0;32mfor\u001b[0m \u001b[0mi\u001b[0m \u001b[0;32min\u001b[0m \u001b[0mrange\u001b[0m\u001b[0;34m(\u001b[0m\u001b[0mlen\u001b[0m\u001b[0;34m(\u001b[0m\u001b[0mh_ALL\u001b[0m\u001b[0;34m)\u001b[0m\u001b[0;34m)\u001b[0m\u001b[0;34m:\u001b[0m\u001b[0;34m\u001b[0m\u001b[0m\n\u001b[1;32m     16\u001b[0m     \u001b[0ms\u001b[0m \u001b[0;34m=\u001b[0m \u001b[0mhist_AFR\u001b[0m\u001b[0;34m[\u001b[0m\u001b[0mi\u001b[0m\u001b[0;34m]\u001b[0m \u001b[0;34m+\u001b[0m \u001b[0mhist_AMR\u001b[0m\u001b[0;34m[\u001b[0m\u001b[0mi\u001b[0m\u001b[0;34m]\u001b[0m \u001b[0;34m+\u001b[0m \u001b[0mhist_EAS\u001b[0m\u001b[0;34m[\u001b[0m\u001b[0mi\u001b[0m\u001b[0;34m]\u001b[0m \u001b[0;34m+\u001b[0m \u001b[0mhist_EUR\u001b[0m\u001b[0;34m[\u001b[0m\u001b[0mi\u001b[0m\u001b[0;34m]\u001b[0m\u001b[0;34m\u001b[0m\u001b[0m\n\u001b[0;32m---> 17\u001b[0;31m     \u001b[0mhist_AFR\u001b[0m\u001b[0;34m[\u001b[0m\u001b[0mi\u001b[0m\u001b[0;34m]\u001b[0m \u001b[0;34m/=\u001b[0m \u001b[0ms\u001b[0m\u001b[0;34m\u001b[0m\u001b[0m\n\u001b[0m\u001b[1;32m     18\u001b[0m     \u001b[0mhist_AMR\u001b[0m\u001b[0;34m[\u001b[0m\u001b[0mi\u001b[0m\u001b[0;34m]\u001b[0m \u001b[0;34m/=\u001b[0m \u001b[0ms\u001b[0m\u001b[0;34m\u001b[0m\u001b[0m\n\u001b[1;32m     19\u001b[0m     \u001b[0mhist_EAS\u001b[0m\u001b[0;34m[\u001b[0m\u001b[0mi\u001b[0m\u001b[0;34m]\u001b[0m \u001b[0;34m/=\u001b[0m \u001b[0ms\u001b[0m\u001b[0;34m\u001b[0m\u001b[0m\n",
      "\u001b[0;31mValueError\u001b[0m: cannot convert float NaN to integer"
     ]
    }
   ],
   "source": [
    "mx = 6151\n",
    "mn = 4060\n",
    "\n",
    "bins = np.linspace(mn, mx, 50)\n",
    "\n",
    "hist_AFR, _ = np.histogram(Fv_AFR, bins=bins)\n",
    "hist_EUR, _ = np.histogram(Fv_EUR, bins=bins)\n",
    "hist_AMR, _ = np.histogram(Fv_AMR, bins=bins)\n",
    "hist_EAS, _ = np.histogram(Fv_EAS, bins=bins)\n",
    "\n",
    "# print(hist_AFR.shape)\n",
    "\n",
    "# h_ALL = hist_AFR + hist_EUR + hist_AMR + hist_EAS\n",
    "\n",
    "for i in range(len(h_ALL)):\n",
    "    s = hist_AFR[i] + hist_AMR[i] + hist_EAS[i] + hist_EUR[i]\n",
    "    hist_AFR[i] /= s\n",
    "    hist_AMR[i] /= s\n",
    "    hist_EAS[i] /= s\n",
    "    hist_EUR[i] /= s\n",
    "\n",
    "f, ax = plt.subplots(figsize=(12, 7))\n",
    "\n",
    "for i in range(len(bins) - 1):\n",
    "    bs, be = bins[i], bins[i+1]\n",
    "    \n",
    "    bottom = 0\n",
    "    p_AFR = hist_AFR[i] / h_ALL[i]\n",
    "    lg = 'AFR' if i == 0 else None\n",
    "    ax.fill_between(\n",
    "        [bs, be], [bottom, bottom], [p_AFR, p_AFR], color='blue', label=lg\n",
    "    )\n",
    "    \n",
    "    bottom += p_AFR\n",
    "    p_AMR = hist_AMR[i] / h_ALL[i]\n",
    "    lg = 'AMR' if i == 0 else None\n",
    "    ax.fill_between(\n",
    "        [bs, be], [bottom, bottom], [bottom+p_AMR, bottom+p_AMR], \n",
    "        color='green', label=lg\n",
    "    )\n",
    "    \n",
    "    bottom += p_AMR\n",
    "    p_EUR = hist_EUR[i] / h_ALL[i]\n",
    "    lg = 'EUR' if i == 0 else None\n",
    "    ax.fill_between(\n",
    "        [bs, be], [bottom, bottom], [bottom+p_EUR, bottom+p_EUR], \n",
    "        color='orange', label=lg\n",
    "    )\n",
    "    \n",
    "    bottom += p_EUR\n",
    "    p_EAS = hist_EUR[i] / h_ALL[i]\n",
    "    lg = 'EAS' if i == 0 else None\n",
    "    ax.fill_between(\n",
    "        [bs, be], [bottom, bottom], [bottom+p_EAS, bottom+p_EAS], \n",
    "        color='red', label=lg\n",
    "    )\n",
    "    \n",
    "#     print(i, p_AFR, p_AMR, p_EUR, p_EAS)\n",
    "    \n",
    "plt.legend()\n",
    "plt.show()"
   ]
  }
 ],
 "metadata": {
  "kernelspec": {
   "display_name": "Python 3",
   "language": "python",
   "name": "python3"
  },
  "language_info": {
   "codemirror_mode": {
    "name": "ipython",
    "version": 3
   },
   "file_extension": ".py",
   "mimetype": "text/x-python",
   "name": "python",
   "nbconvert_exporter": "python",
   "pygments_lexer": "ipython3",
   "version": "3.5.2"
  },
  "varInspector": {
   "cols": {
    "lenName": 16,
    "lenType": 16,
    "lenVar": 40
   },
   "kernels_config": {
    "python": {
     "delete_cmd_postfix": "",
     "delete_cmd_prefix": "del ",
     "library": "var_list.py",
     "varRefreshCmd": "print(var_dic_list())"
    },
    "r": {
     "delete_cmd_postfix": ") ",
     "delete_cmd_prefix": "rm(",
     "library": "var_list.r",
     "varRefreshCmd": "cat(var_dic_list()) "
    }
   },
   "types_to_exclude": [
    "module",
    "function",
    "builtin_function_or_method",
    "instance",
    "_Feature"
   ],
   "window_display": false
  }
 },
 "nbformat": 4,
 "nbformat_minor": 2
}
