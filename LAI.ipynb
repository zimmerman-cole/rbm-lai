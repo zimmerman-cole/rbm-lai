{
 "cells": [
  {
   "cell_type": "markdown",
   "metadata": {
    "heading_collapsed": true
   },
   "source": [
    "# Imports, load data"
   ]
  },
  {
   "cell_type": "code",
   "execution_count": 34,
   "metadata": {
    "hidden": true
   },
   "outputs": [],
   "source": [
    "import numpy as np\n",
    "import matplotlib.pyplot as plt\n",
    "import pickle as pkl\n",
    "import itertools\n",
    "from collections import defaultdict, OrderedDict\n",
    "\n",
    "from IPython.display import clear_output, display\n",
    "from ipywidgets import IntProgress, Text, Layout, Label\n",
    "\n",
    "from src.lai import compute_window_accuracies, assign_ancestries"
   ]
  },
  {
   "cell_type": "code",
   "execution_count": 2,
   "metadata": {
    "hidden": true
   },
   "outputs": [],
   "source": [
    "%load_ext autoreload\n",
    "%autoreload 2"
   ]
  },
  {
   "cell_type": "code",
   "execution_count": 3,
   "metadata": {
    "hidden": true
   },
   "outputs": [],
   "source": [
    "f = open('data/imputations_t50.p', 'rb')\n",
    "imputations = pkl.load(f)\n",
    "f.close()"
   ]
  },
  {
   "cell_type": "code",
   "execution_count": 4,
   "metadata": {
    "hidden": true
   },
   "outputs": [],
   "source": [
    "H_AFR = np.loadtxt('data/H_AFR.txt')\n",
    "H_AMR = np.loadtxt('data/H_AMR.txt')\n",
    "H_EAS = np.loadtxt('data/H_EAS.txt')\n",
    "H_EUR = np.loadtxt('data/H_EUR.txt')\n",
    "\n",
    "H_valid = np.zeros((0, H_AFR.shape[1]))\n",
    "for H in [H_AFR, H_AMR, H_EUR, H_EAS]:\n",
    "    H_valid = np.vstack([H_valid, H[-50:, :]])\n",
    "    \n",
    "del H_AFR, H_AMR, H_EAS, H_EUR"
   ]
  },
  {
   "cell_type": "code",
   "execution_count": 18,
   "metadata": {
    "hidden": true
   },
   "outputs": [
    {
     "name": "stdout",
     "output_type": "stream",
     "text": [
      "AFR AMR 0.06479067930489732\n",
      "AFR EAS 0.13982161664033702\n",
      "AFR EUR 0.14556411269088995\n",
      "AMR EAS 0.12655805687203792\n",
      "AMR EUR 0.11993483412322276\n",
      "EAS EUR 0.18099789362822538\n"
     ]
    }
   ],
   "source": [
    "pops = ['AFR', 'AMR', 'EAS', 'EUR']\n",
    "for (p1, p2) in itertools.combinations(pops, 2):\n",
    "    print(p1, p2, np.mean((imputations[p1] - imputations[p2])**2))"
   ]
  },
  {
   "cell_type": "markdown",
   "metadata": {
    "heading_collapsed": true
   },
   "source": [
    "# Compute window accuracies"
   ]
  },
  {
   "cell_type": "code",
   "execution_count": 27,
   "metadata": {
    "code_folding": [
     6
    ],
    "hidden": true
   },
   "outputs": [
    {
     "data": {
      "application/vnd.jupyter.widget-view+json": {
       "model_id": "",
       "version_major": 2,
       "version_minor": 0
      },
      "text/plain": [
       "IntProgress(value=7549, max=7596)"
      ]
     },
     "metadata": {},
     "output_type": "display_data"
    },
    {
     "data": {
      "application/vnd.jupyter.widget-view+json": {
       "model_id": "",
       "version_major": 2,
       "version_minor": 0
      },
      "text/plain": [
       "Text(value='EUR:(0.720, 0.142)  AMR:(0.712, 0.138)  EAS:(0.693, 0.153)  AFR:(0.699, 0.159)  ', layout=Layout(w…"
      ]
     },
     "metadata": {},
     "output_type": "display_data"
    }
   ],
   "source": [
    "prog = IntProgress(value=0, max=H_valid.shape[1])\n",
    "display(prog)\n",
    "\n",
    "text = Text(value='', layout=Layout(width='100%'))\n",
    "display(text)\n",
    "\n",
    "def hook(col, accuracies):\n",
    "    if (col % 50) == 0:\n",
    "        clear_output()\n",
    "        display(prog)\n",
    "        display(text)\n",
    "        text.value = ''\n",
    "        for p, accs in accuracies.items():\n",
    "            m, s = np.mean(accs[:, -1]), np.std(accs[:, -1])\n",
    "            text.value += '%s:(%.3f, %.3f)  ' % (p, m, s)\n",
    "        \n",
    "    prog.value = col\n",
    "    \n",
    "accs = compute_window_accuracies(\n",
    "    imputations, H_valid, window_size=10, hooks=[hook]\n",
    ")\n",
    "\n",
    "prog.close()\n",
    "text.close()\n",
    "\n",
    "# e = 206\n",
    "# imputations['EUR'][:, -e:].sum()\n",
    "\n"
   ]
  },
  {
   "cell_type": "markdown",
   "metadata": {
    "hidden": true
   },
   "source": [
    "## Save results"
   ]
  },
  {
   "cell_type": "code",
   "execution_count": 28,
   "metadata": {
    "hidden": true
   },
   "outputs": [],
   "source": [
    "save_path = 'data/accuracies_td50.p'\n",
    "\n",
    "out = dict()\n",
    "out['model_info'] = imputations['model_info']\n",
    "out['H_valid_info'] = imputations['H_valid_info']\n",
    "out['accuracies'] = accs\n",
    "try:\n",
    "    f = open(save_path, 'wb')\n",
    "    pkl.dump(out, f)\n",
    "except:\n",
    "    print('Saving accuracies failed.')\n",
    "finally:\n",
    "    f.close()"
   ]
  },
  {
   "cell_type": "markdown",
   "metadata": {},
   "source": [
    "# Assign local ancestries"
   ]
  },
  {
   "cell_type": "code",
   "execution_count": 31,
   "metadata": {},
   "outputs": [
    {
     "data": {
      "application/vnd.jupyter.widget-view+json": {
       "model_id": "",
       "version_major": 2,
       "version_minor": 0
      },
      "text/plain": [
       "IntProgress(value=0)"
      ]
     },
     "metadata": {},
     "output_type": "display_data"
    }
   ],
   "source": [
    "prog = IntProgress(value=0, max=100)\n",
    "display(prog)\n",
    "\n",
    "def hook(i, g_row):\n",
    "    prog.value = i\n",
    "\n",
    "ancestries = assign_ancestries(accs, hooks=[hook])\n",
    "\n",
    "prog.close()"
   ]
  },
  {
   "cell_type": "code",
   "execution_count": 39,
   "metadata": {},
   "outputs": [
    {
     "data": {
      "image/png": "[encoded data removed]",
      "text/plain": [
       "<Figure size 864x504 with 1 Axes>"
      ]
     },
     "metadata": {},
     "output_type": "display_data"
    }
   ],
   "source": [
    "ans_AFR = defaultdict(int)\n",
    "for row in range(0, 50):\n",
    "#     ans_AFR.update(set(list(np.unique(ancestries[row]))))\n",
    "    ans, cts = np.unique(ancestries[row], return_counts=True)\n",
    "    for a, c in zip(ans, cts):\n",
    "        ans_AFR[a] += c\n",
    "    \n",
    "#     print('='*30)\n",
    "#     print('Row %d' % row)\n",
    "#     for (a, c) in zip(ans, cts):\n",
    "#         print(tuple(a), ':', c)\n",
    "        \n",
    "#     input()\n",
    "#     clear_output()\n",
    "\n",
    "to_plt = OrderedDict()\n",
    "for anc, num in ans_AFR.items():\n",
    "    if len(anc) == 1:\n",
    "        k = ','.join(list(anc)*2)\n",
    "    elif len(anc) == 2:\n",
    "        k = ','.join(list(anc))\n",
    "        \n",
    "    to_plt[k] = num\n",
    "\n",
    "f, ax = plt.subplots(figsize=(12, 7))\n",
    "\n",
    "colors = []\n",
    "for anc, num in to_plt.items():\n",
    "    if anc == 'AFR,AFR':\n",
    "        colors.append('green')\n",
    "    elif ('AFR' in anc) or (anc == 'AMR,AMR'):\n",
    "        colors.append('yellow')\n",
    "    else:\n",
    "        colors.append('red')\n",
    "\n",
    "bar_space = 1\n",
    "xs = np.arange(0, bar_space * len(to_plt.keys()), bar_space)\n",
    "ax.bar(xs, list(to_plt.values()), tick_label=list(to_plt.keys()), color=colors)\n",
    "plt.show()\n",
    "    "
   ]
  }
 ],
 "metadata": {
  "kernelspec": {
   "display_name": "Python 3",
   "language": "python",
   "name": "python3"
  },
  "language_info": {
   "codemirror_mode": {
    "name": "ipython",
    "version": 3
   },
   "file_extension": ".py",
   "mimetype": "text/x-python",
   "name": "python",
   "nbconvert_exporter": "python",
   "pygments_lexer": "ipython3",
   "version": "3.5.2"
  },
  "varInspector": {
   "cols": {
    "lenName": 16,
    "lenType": 16,
    "lenVar": 40
   },
   "kernels_config": {
    "python": {
     "delete_cmd_postfix": "",
     "delete_cmd_prefix": "del ",
     "library": "var_list.py",
     "varRefreshCmd": "print(var_dic_list())"
    },
    "r": {
     "delete_cmd_postfix": ") ",
     "delete_cmd_prefix": "rm(",
     "library": "var_list.r",
     "varRefreshCmd": "cat(var_dic_list()) "
    }
   },
   "types_to_exclude": [
    "module",
    "function",
    "builtin_function_or_method",
    "instance",
    "_Feature"
   ],
   "window_display": false
  }
 },
 "nbformat": 4,
 "nbformat_minor": 2
}
