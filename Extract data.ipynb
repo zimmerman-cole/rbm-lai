{
 "cells": [
  {
   "cell_type": "markdown",
   "metadata": {
    "heading_collapsed": true
   },
   "source": [
    "# Imports"
   ]
  },
  {
   "cell_type": "code",
   "execution_count": 54,
   "metadata": {
    "hidden": true
   },
   "outputs": [],
   "source": [
    "import time\n",
    "import os\n",
    "import sys\n",
    "import pickle as pkl\n",
    "import pandas as pd\n",
    "\n",
    "import numpy as np\n",
    "import matplotlib.pyplot as plt\n",
    "from sklearn.decomposition import PCA\n",
    "\n",
    "from IPython.display import clear_output, display\n",
    "from ipywidgets import IntProgress\n",
    "\n",
    "import vcf\n",
    "from src.utils import progress_bar\n",
    "from src.data import load_data"
   ]
  },
  {
   "cell_type": "code",
   "execution_count": 3,
   "metadata": {
    "hidden": true
   },
   "outputs": [],
   "source": [
    "%load_ext autoreload\n",
    "%autoreload 2"
   ]
  },
  {
   "cell_type": "markdown",
   "metadata": {
    "heading_collapsed": true
   },
   "source": [
    "# Extract data from vcf files"
   ]
  },
  {
   "cell_type": "markdown",
   "metadata": {
    "heading_collapsed": true,
    "hidden": true
   },
   "source": [
    "## Get info"
   ]
  },
  {
   "cell_type": "code",
   "execution_count": 4,
   "metadata": {
    "hidden": true
   },
   "outputs": [],
   "source": [
    "\n",
    "path = '/home/cole/Desktop/1000G/PHASE1/'\n",
    "\n",
    "filename = [s for s in os.listdir(path) if s[-3:] != '.gz']\n",
    "assert len(filename) == 1\n",
    "filename = filename[0]\n",
    "\n",
    "vcf_reader = vcf.Reader(open(path + filename, 'r'))\n",
    "\n",
    "for record in vcf_reader:\n",
    "    atts = [s for s in dir(record) if s[:2] != '__']\n",
    "    break"
   ]
  },
  {
   "cell_type": "code",
   "execution_count": 5,
   "metadata": {
    "hidden": true
   },
   "outputs": [
    {
     "name": "stdout",
     "output_type": "stream",
     "text": [
      "['ALT', 'CHROM', 'FILTER', 'FORMAT', 'ID', 'INFO', 'POS', 'QUAL', 'REF', '_compute_coordinates_for_indel', '_compute_coordinates_for_none_alt', '_compute_coordinates_for_snp', '_compute_coordinates_for_sv', '_sample_indexes', '_set_start_and_end', 'aaf', 'add_filter', 'add_format', 'add_info', 'affected_end', 'affected_start', 'alleles', 'call_rate', 'end', 'genotype', 'get_hets', 'get_hom_alts', 'get_hom_refs', 'get_unknowns', 'heterozygosity', 'is_deletion', 'is_indel', 'is_monomorphic', 'is_snp', 'is_sv', 'is_sv_precise', 'is_transition', 'nucl_diversity', 'num_called', 'num_het', 'num_hom_alt', 'num_hom_ref', 'num_unknown', 'samples', 'start', 'sv_end', 'var_subtype', 'var_type']\n",
      "============================================================\n",
      "['called', 'data', 'gt_alleles', 'gt_bases', 'gt_nums', 'gt_phase_char', 'gt_type', 'is_het', 'is_variant', 'phased', 'ploidity', 'sample', 'site']\n",
      "============================================================\n",
      "CALL: T|T 0|0 True HG00096\n",
      "REC: rs149201999 T ['T', C] 1.0\n"
     ]
    }
   ],
   "source": [
    "print(atts)\n",
    "print('='*60)\n",
    "\n",
    "call = record.samples[0]\n",
    "atts_call = [s for s in dir(call) if s[:2] != '__']\n",
    "\n",
    "print(atts_call)\n",
    "print('='*60)\n",
    "\n",
    "hg_names = dict()\n",
    "for i, c in enumerate(record.samples):\n",
    "    assert c.sample not in hg_names.keys()\n",
    "    hg_names[c.sample] = i\n",
    "\n",
    "print('CALL:', call.gt_bases, call.gt_nums, call.phased, call.sample)\n",
    "print('REC:', record.ID, record.REF, record.alleles, record.call_rate)"
   ]
  },
  {
   "cell_type": "markdown",
   "metadata": {
    "hidden": true
   },
   "source": [
    "## H[:, :16285]"
   ]
  },
  {
   "cell_type": "markdown",
   "metadata": {
    "heading_collapsed": true,
    "hidden": true
   },
   "source": [
    "### extract H[:, :16285]"
   ]
  },
  {
   "cell_type": "code",
   "execution_count": 71,
   "metadata": {
    "hidden": true
   },
   "outputs": [
    {
     "name": "stdout",
     "output_type": "stream",
     "text": [
      "r_num=17300; nc=16383\n"
     ]
    },
    {
     "ename": "KeyboardInterrupt",
     "evalue": "",
     "output_type": "error",
     "traceback": [
      "\u001b[0;31m---------------------------------------------------------------------------\u001b[0m",
      "\u001b[0;31mKeyboardInterrupt\u001b[0m                         Traceback (most recent call last)",
      "\u001b[0;32m<ipython-input-71-3b18b5e84257>\u001b[0m in \u001b[0;36m<module>\u001b[0;34m()\u001b[0m\n\u001b[1;32m     27\u001b[0m \u001b[0;34m\u001b[0m\u001b[0m\n\u001b[1;32m     28\u001b[0m     \u001b[0;32mif\u001b[0m \u001b[0;34m(\u001b[0m\u001b[0mrecord_number\u001b[0m \u001b[0;34m%\u001b[0m \u001b[0;36m100\u001b[0m\u001b[0;34m)\u001b[0m \u001b[0;34m==\u001b[0m \u001b[0;36m0\u001b[0m\u001b[0;34m:\u001b[0m\u001b[0;34m\u001b[0m\u001b[0m\n\u001b[0;32m---> 29\u001b[0;31m         \u001b[0mnp\u001b[0m\u001b[0;34m.\u001b[0m\u001b[0msavetxt\u001b[0m\u001b[0;34m(\u001b[0m\u001b[0;34m'data/H.txt'\u001b[0m\u001b[0;34m,\u001b[0m \u001b[0mH\u001b[0m\u001b[0;34m)\u001b[0m\u001b[0;34m\u001b[0m\u001b[0m\n\u001b[0m\u001b[1;32m     30\u001b[0m         \u001b[0mclear_output\u001b[0m\u001b[0;34m(\u001b[0m\u001b[0;34m)\u001b[0m\u001b[0;34m\u001b[0m\u001b[0m\n\u001b[1;32m     31\u001b[0m         \u001b[0mprint\u001b[0m\u001b[0;34m(\u001b[0m\u001b[0;34m'r_num={0}; nc={1}'\u001b[0m\u001b[0;34m.\u001b[0m\u001b[0mformat\u001b[0m\u001b[0;34m(\u001b[0m\u001b[0mrecord_number\u001b[0m\u001b[0;34m,\u001b[0m \u001b[0mH\u001b[0m\u001b[0;34m.\u001b[0m\u001b[0mshape\u001b[0m\u001b[0;34m[\u001b[0m\u001b[0;36m1\u001b[0m\u001b[0;34m]\u001b[0m\u001b[0;34m)\u001b[0m\u001b[0;34m)\u001b[0m\u001b[0;34m\u001b[0m\u001b[0m\n",
      "\u001b[0;32m~/.virtualenvs/RL/lib/python3.5/site-packages/numpy/lib/npyio.py\u001b[0m in \u001b[0;36msavetxt\u001b[0;34m(fname, X, fmt, delimiter, newline, header, footer, comments, encoding)\u001b[0m\n\u001b[1;32m   1374\u001b[0m             \u001b[0;32mfor\u001b[0m \u001b[0mrow\u001b[0m \u001b[0;32min\u001b[0m \u001b[0mX\u001b[0m\u001b[0;34m:\u001b[0m\u001b[0;34m\u001b[0m\u001b[0m\n\u001b[1;32m   1375\u001b[0m                 \u001b[0;32mtry\u001b[0m\u001b[0;34m:\u001b[0m\u001b[0;34m\u001b[0m\u001b[0m\n\u001b[0;32m-> 1376\u001b[0;31m                     \u001b[0mv\u001b[0m \u001b[0;34m=\u001b[0m \u001b[0mformat\u001b[0m \u001b[0;34m%\u001b[0m \u001b[0mtuple\u001b[0m\u001b[0;34m(\u001b[0m\u001b[0mrow\u001b[0m\u001b[0;34m)\u001b[0m \u001b[0;34m+\u001b[0m \u001b[0mnewline\u001b[0m\u001b[0;34m\u001b[0m\u001b[0m\n\u001b[0m\u001b[1;32m   1377\u001b[0m                 \u001b[0;32mexcept\u001b[0m \u001b[0mTypeError\u001b[0m\u001b[0;34m:\u001b[0m\u001b[0;34m\u001b[0m\u001b[0m\n\u001b[1;32m   1378\u001b[0m                     raise TypeError(\"Mismatch between array dtype ('%s') and \"\n",
      "\u001b[0;31mKeyboardInterrupt\u001b[0m: "
     ]
    }
   ],
   "source": [
    "record.samples, record.ID\n",
    "col_names = []\n",
    "path = '/home/cole/Desktop/1000G/PHASE1/'\n",
    "\n",
    "filename = [s for s in os.listdir(path) if s[-3:] != '.gz']\n",
    "assert len(filename) == 1\n",
    "filename = filename[0]\n",
    "\n",
    "vcf_reader = vcf.Reader(open(path + filename, 'r'))\n",
    "n = len(hg_names)\n",
    "\n",
    "H = np.zeros((2 * n, 0), dtype=np.int8)\n",
    "\n",
    "for record_number, record in enumerate(vcf_reader):\n",
    "    if (record.call_rate != 1.0) or (not record.is_snp) or (record.num_called != n):\n",
    "        continue\n",
    "     \n",
    "    new_col = np.zeros((2*n, 1))\n",
    "    for call in record.samples:\n",
    "        h_row = 2 * hg_names[call.sample]\n",
    "        assert call.phased\n",
    "        \n",
    "        new_col[h_row, 0] = int(call.gt_nums[0])\n",
    "        new_col[h_row+1, 0] = int(call.gt_nums[-1])\n",
    "    \n",
    "    H = np.hstack([H, new_col])\n",
    "    col_names.append(record.ID)\n",
    "    \n",
    "    if (record_number % 100) == 0:\n",
    "        np.savetxt('data/H.txt', H)\n",
    "        clear_output()\n",
    "        print('r_num={0}; nc={1}'.format(record_number, H.shape[1]))\n",
    "        \n",
    "        f = open('data/variant_names.p', 'wb')\n",
    "        pkl.dump(col_names, f)\n",
    "        f.close()\n",
    "        \n",
    "    if H.shape[1] == 15000:\n",
    "        np.savetxt('data/H.txt', H)\n",
    "    \n",
    "clear_output()\n",
    "print('finished with %d columns' % H.shape[1])\n",
    "       \n",
    "    "
   ]
  },
  {
   "cell_type": "code",
   "execution_count": 6,
   "metadata": {
    "hidden": true
   },
   "outputs": [],
   "source": [
    "col_names = []\n",
    "path = '/home/cole/Desktop/1000G/PHASE1/'\n",
    "\n",
    "filename = [s for s in os.listdir(path) if s[-3:] != '.gz']\n",
    "assert len(filename) == 1\n",
    "filename = filename[0]\n",
    "\n",
    "vcf_reader = vcf.Reader(open(path + filename, 'r'))\n",
    "n = len(hg_names)\n",
    "\n",
    "Hs = 0\n",
    "for record_number, record in enumerate(vcf_reader):\n",
    "    if (record.call_rate != 1.0) or (not record.is_snp) or (record.num_called != n):\n",
    "        continue\n",
    "    \n",
    "    col_names.append(record.ID)\n",
    "    Hs += 1\n",
    "    \n",
    "    if Hs == 16285:\n",
    "        break\n",
    "    \n",
    "f = open('data/variant_names.p', 'wb')\n",
    "pkl.dump(col_names, f)\n",
    "f.close()\n",
    "        \n",
    "    "
   ]
  },
  {
   "cell_type": "markdown",
   "metadata": {
    "heading_collapsed": true,
    "hidden": true
   },
   "source": [
    "### Clean H[:, :16285]"
   ]
  },
  {
   "cell_type": "code",
   "execution_count": 11,
   "metadata": {
    "hidden": true
   },
   "outputs": [],
   "source": [
    "H = np.loadtxt('data/H.txt')\n",
    "\n",
    "f = open('data/variant_names.p', 'rb')\n",
    "var_names = pkl.load(f)\n",
    "f.close()\n",
    "\n",
    "old_len = H.shape[1]"
   ]
  },
  {
   "cell_type": "code",
   "execution_count": 22,
   "metadata": {
    "hidden": true
   },
   "outputs": [
    {
     "data": {
      "application/vnd.jupyter.widget-view+json": {
       "model_id": "",
       "version_major": 2,
       "version_minor": 0
      },
      "text/plain": [
       "IntProgress(value=0, max=16285)"
      ]
     },
     "metadata": {},
     "output_type": "display_data"
    },
    {
     "data": {
      "image/png": "[encoded data removed]",
      "text/plain": [
       "<Figure size 864x504 with 1 Axes>"
      ]
     },
     "metadata": {},
     "output_type": "display_data"
    }
   ],
   "source": [
    "Hr = np.array(H)\n",
    "\n",
    "p0s = []\n",
    "clean_columns = []\n",
    "clean_variant_names = []\n",
    "for c, var_name in progress_bar(H.shape[1], enumerate(list(var_names))):\n",
    "    p0 = len(np.argwhere(H[:, c] == 0)) / H.shape[0]\n",
    "    if p0 > 0.9 or p0 < 0.1:\n",
    "        continue\n",
    "    else:\n",
    "        p0s.append(p0)\n",
    "        clean_columns.append(c)\n",
    "        clean_variant_names.append(var_name)\n",
    "\n",
    "f, ax = plt.subplots(figsize=(12, 7))\n",
    "ax.scatter(range(len(p0s)), p0s)\n",
    "ax.set_ylim([0, 1])\n",
    "plt.show()\n",
    "\n",
    "clean_columns = np.array(clean_columns)\n",
    "np.savetxt('data/H1/clean/clean_columns.txt', clean_columns)\n",
    "\n",
    "clean_variant_names = np.array(clean_columns)\n",
    "np.savetxt('data/H1/clean/clean_variant_names.txt', clean_columns)"
   ]
  },
  {
   "cell_type": "markdown",
   "metadata": {
    "heading_collapsed": true,
    "hidden": true
   },
   "source": [
    "## H[:, 16285:53245]"
   ]
  },
  {
   "cell_type": "code",
   "execution_count": 35,
   "metadata": {
    "hidden": true
   },
   "outputs": [
    {
     "name": "stdout",
     "output_type": "stream",
     "text": [
      "r_num=53000; nc=5106\n"
     ]
    },
    {
     "ename": "KeyboardInterrupt",
     "evalue": "",
     "output_type": "error",
     "traceback": [
      "\u001b[0;31m---------------------------------------------------------------------------\u001b[0m",
      "\u001b[0;31mKeyboardInterrupt\u001b[0m                         Traceback (most recent call last)",
      "\u001b[0;32m<ipython-input-35-e6aded9ab559>\u001b[0m in \u001b[0;36m<module>\u001b[0;34m()\u001b[0m\n\u001b[1;32m     29\u001b[0m         \u001b[0;32mcontinue\u001b[0m\u001b[0;34m\u001b[0m\u001b[0m\n\u001b[1;32m     30\u001b[0m \u001b[0;34m\u001b[0m\u001b[0m\n\u001b[0;32m---> 31\u001b[0;31m     \u001b[0mH\u001b[0m \u001b[0;34m=\u001b[0m \u001b[0mnp\u001b[0m\u001b[0;34m.\u001b[0m\u001b[0mhstack\u001b[0m\u001b[0;34m(\u001b[0m\u001b[0;34m[\u001b[0m\u001b[0mH\u001b[0m\u001b[0;34m,\u001b[0m \u001b[0mnew_col\u001b[0m\u001b[0;34m]\u001b[0m\u001b[0;34m)\u001b[0m\u001b[0;34m\u001b[0m\u001b[0m\n\u001b[0m\u001b[1;32m     32\u001b[0m     \u001b[0mcol_names\u001b[0m\u001b[0;34m.\u001b[0m\u001b[0mappend\u001b[0m\u001b[0;34m(\u001b[0m\u001b[0mrecord\u001b[0m\u001b[0;34m.\u001b[0m\u001b[0mID\u001b[0m\u001b[0;34m)\u001b[0m\u001b[0;34m\u001b[0m\u001b[0m\n\u001b[1;32m     33\u001b[0m \u001b[0;34m\u001b[0m\u001b[0m\n",
      "\u001b[0;32m~/.virtualenvs/RL/lib/python3.5/site-packages/numpy/core/shape_base.py\u001b[0m in \u001b[0;36mhstack\u001b[0;34m(tup)\u001b[0m\n\u001b[1;32m    286\u001b[0m         \u001b[0;32mreturn\u001b[0m \u001b[0m_nx\u001b[0m\u001b[0;34m.\u001b[0m\u001b[0mconcatenate\u001b[0m\u001b[0;34m(\u001b[0m\u001b[0marrs\u001b[0m\u001b[0;34m,\u001b[0m \u001b[0;36m0\u001b[0m\u001b[0;34m)\u001b[0m\u001b[0;34m\u001b[0m\u001b[0m\n\u001b[1;32m    287\u001b[0m     \u001b[0;32melse\u001b[0m\u001b[0;34m:\u001b[0m\u001b[0;34m\u001b[0m\u001b[0m\n\u001b[0;32m--> 288\u001b[0;31m         \u001b[0;32mreturn\u001b[0m \u001b[0m_nx\u001b[0m\u001b[0;34m.\u001b[0m\u001b[0mconcatenate\u001b[0m\u001b[0;34m(\u001b[0m\u001b[0marrs\u001b[0m\u001b[0;34m,\u001b[0m \u001b[0;36m1\u001b[0m\u001b[0;34m)\u001b[0m\u001b[0;34m\u001b[0m\u001b[0m\n\u001b[0m\u001b[1;32m    289\u001b[0m \u001b[0;34m\u001b[0m\u001b[0m\n\u001b[1;32m    290\u001b[0m \u001b[0;34m\u001b[0m\u001b[0m\n",
      "\u001b[0;31mKeyboardInterrupt\u001b[0m: "
     ]
    }
   ],
   "source": [
    "col_names = []\n",
    "path = '/home/cole/Desktop/1000G/PHASE1/'\n",
    "\n",
    "filename = [s for s in os.listdir(path) if s[-3:] != '.gz']\n",
    "assert len(filename) == 1\n",
    "filename = filename[0]\n",
    "\n",
    "vcf_reader = vcf.Reader(open(path + filename, 'r'))\n",
    "n = len(hg_names)\n",
    "\n",
    "H = np.zeros((2 * n, 0), dtype=np.int8)\n",
    "\n",
    "for record_number, record in enumerate(vcf_reader):\n",
    "    if (record.call_rate != 1.0) or (not record.is_snp) or (record.num_called != n):\n",
    "        continue\n",
    "    elif record_number < 16285:\n",
    "        continue\n",
    "     \n",
    "    new_col = np.zeros((2*n, 1))\n",
    "    for call in record.samples:\n",
    "        h_row = 2 * hg_names[call.sample]\n",
    "        assert call.phased\n",
    "        \n",
    "        new_col[h_row, 0] = int(call.gt_nums[0])\n",
    "        new_col[h_row+1, 0] = int(call.gt_nums[-1])\n",
    "       \n",
    "    p0 = len(np.argwhere(new_col == 0)) / len(new_col)\n",
    "    if (p0 < 0.1) or (p0 > 0.9):\n",
    "        continue\n",
    "    \n",
    "    H = np.hstack([H, new_col])\n",
    "    col_names.append(record.ID)\n",
    "    \n",
    "    if (record_number % 100) == 0:\n",
    "        np.savetxt('data/H2/H.txt', H)\n",
    "        clear_output()\n",
    "        print('r_num={0}; nc={1}'.format(record_number, H.shape[1]))\n",
    "        \n",
    "        f = open('data/H2/variant_names.p', 'wb')\n",
    "        pkl.dump(col_names, f)\n",
    "        f.close()\n",
    "        \n",
    "    if H.shape[1] == 15000:\n",
    "        np.savetxt('data/H2/H.txt', H)\n",
    "    \n",
    "clear_output()\n",
    "print('finished with %d columns' % H.shape[1])\n",
    "\n"
   ]
  },
  {
   "cell_type": "markdown",
   "metadata": {},
   "source": [
    "# Break into pop-specific arrays"
   ]
  },
  {
   "cell_type": "code",
   "execution_count": 87,
   "metadata": {},
   "outputs": [],
   "source": [
    "# H = load_data()\n",
    "\n",
    "pops = pd.read_csv('data/populations.csv').set_index('Sample')\n",
    "\n",
    "row2hg = dict()\n",
    "for (k, v) in hg_map.items():\n",
    "    assert v not in row2hg.keys()\n",
    "    row2hg[v] = k\n",
    "\n",
    "pop25 = dict()\n",
    "for eas in ['CHB', 'JPT', 'CHS', 'CDX', 'KHV']:\n",
    "    pop25[eas] = 'EAS'\n",
    "for eur in ['CEU', 'TSI', 'FIN', 'GBR', 'IBS']:\n",
    "    pop25[eur] = 'EUR'\n",
    "for afr in ['YRI', 'LWK', 'GWD', 'MXL', 'ESN', 'ASW', 'ACB']:\n",
    "    pop25[afr] = 'AFR'\n",
    "for amr in ['ASW', 'ACB', 'AMR', 'PUR', 'CLM', 'PEL']:\n",
    "    pop25[amr] = 'AMR'\n",
    "for sas in ['GIH', 'PJL', 'BEB', 'STU', 'ITU']:\n",
    "    pop25[sas] = 'SAS'\n",
    "\n",
    "n, m = H.shape\n",
    "\n",
    "H_AFR = np.zeros((0, m))\n",
    "H_AMR = np.zeros((0, m))\n",
    "H_EAS = np.zeros((0, m))\n",
    "H_EUR = np.zeros((0, m))\n",
    "H_SAS = np.zeros((0, m))\n",
    "pop2H = dict()\n",
    "pop2H['AFR'] = H_AFR\n",
    "pop2H['AMR'] = H_AMR\n",
    "pop2H['EUR'] = H_EUR\n",
    "pop2H['EAS'] = H_EAS\n",
    "pop2H['SAS'] = H_SAS\n",
    "\n",
    "for g_row in range(0, int(n/2)):\n",
    "    hg = row2hg[g_row]\n",
    "    h_row = g_row * 2  \n",
    "    \n",
    "    try:\n",
    "        pop26 = pops.loc[hg]['Population']\n",
    "    except KeyError:\n",
    "        print(hg, hg in pops.index)\n",
    "        continue\n",
    "#     print(pop26)\n",
    "    pop5 = pop25[pop26]\n",
    "    \n",
    "    newH = np.vstack([H[h_row], H[h_row+1]])\n",
    "    \n",
    "    pop2H[pop5] = np.vstack([pop2H[pop5], newH])\n",
    "    \n",
    "for name, H_ in pop2H.items():\n",
    "    np.savetxt('data/H_%s.txt' % name, H_)"
   ]
  },
  {
   "cell_type": "code",
   "execution_count": 88,
   "metadata": {},
   "outputs": [
    {
     "name": "stdout",
     "output_type": "stream",
     "text": [
      "AFR (502, 7596)\n",
      "AMR (352, 7596)\n",
      "EAS (572, 7596)\n",
      "EUR (758, 7596)\n",
      "SAS (0,)\n"
     ]
    },
    {
     "name": "stderr",
     "output_type": "stream",
     "text": [
      "/home/cole/.virtualenvs/RL/lib/python3.5/site-packages/ipykernel_launcher.py:3: UserWarning: loadtxt: Empty input file: \"data/H_SAS.txt\"\n",
      "  This is separate from the ipykernel package so we can avoid doing imports until\n"
     ]
    }
   ],
   "source": [
    "pops = ['AFR', 'AMR', 'EAS', 'EUR', 'SAS']\n",
    "for p in pops:\n",
    "    H_ = np.loadtxt('data/H_%s.txt' % p)\n",
    "    print(p, H_.shape)\n"
   ]
  }
 ],
 "metadata": {
  "kernelspec": {
   "display_name": "Python 3",
   "language": "python",
   "name": "python3"
  },
  "language_info": {
   "codemirror_mode": {
    "name": "ipython",
    "version": 3
   },
   "file_extension": ".py",
   "mimetype": "text/x-python",
   "name": "python",
   "nbconvert_exporter": "python",
   "pygments_lexer": "ipython3",
   "version": "3.5.2"
  },
  "varInspector": {
   "cols": {
    "lenName": 16,
    "lenType": 16,
    "lenVar": 40
   },
   "kernels_config": {
    "python": {
     "delete_cmd_postfix": "",
     "delete_cmd_prefix": "del ",
     "library": "var_list.py",
     "varRefreshCmd": "print(var_dic_list())"
    },
    "r": {
     "delete_cmd_postfix": ") ",
     "delete_cmd_prefix": "rm(",
     "library": "var_list.r",
     "varRefreshCmd": "cat(var_dic_list()) "
    }
   },
   "types_to_exclude": [
    "module",
    "function",
    "builtin_function_or_method",
    "instance",
    "_Feature"
   ],
   "window_display": false
  }
 },
 "nbformat": 4,
 "nbformat_minor": 2
}
