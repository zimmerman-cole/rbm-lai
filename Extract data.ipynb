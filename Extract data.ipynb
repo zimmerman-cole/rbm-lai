{
 "cells": [
  {
   "cell_type": "markdown",
   "metadata": {
    "heading_collapsed": true
   },
   "source": [
    "# Imports"
   ]
  },
  {
   "cell_type": "code",
   "execution_count": 1,
   "metadata": {
    "hidden": true
   },
   "outputs": [],
   "source": [
    "import time\n",
    "import os\n",
    "import sys\n",
    "import pickle as pkl\n",
    "\n",
    "import numpy as np\n",
    "import matplotlib.pyplot as plt\n",
    "from sklearn.decomposition import PCA\n",
    "from IPython.display import clear_output\n",
    "\n",
    "import vcf\n",
    "\n",
    "import src.simulate"
   ]
  },
  {
   "cell_type": "code",
   "execution_count": 2,
   "metadata": {
    "hidden": true
   },
   "outputs": [],
   "source": [
    "%load_ext autoreload\n",
    "%autoreload 2"
   ]
  },
  {
   "cell_type": "markdown",
   "metadata": {
    "heading_collapsed": true
   },
   "source": [
    "# Simulated"
   ]
  },
  {
   "cell_type": "code",
   "execution_count": 11,
   "metadata": {
    "hidden": true
   },
   "outputs": [],
   "source": [
    "p0, p1, p2 = 0.33, 0.33, 0.34\n",
    "pop_names = ['Africa', 'Europe', 'America', 'Asia', 'Oceania']\n",
    "\n",
    "haps_dict = src.simulate.simulate_naive(\n",
    "    p0, p1, p2, pop_names, num_haps=6000, hap_len=6000\n",
    ")\n",
    "\n",
    "H = np.zeros((0, 6000), dtype=np.int8)\n",
    "for pop in haps_dict.keys():\n",
    "    H = np.vstack([H, haps_dict[pop]])"
   ]
  },
  {
   "cell_type": "code",
   "execution_count": 16,
   "metadata": {
    "hidden": true
   },
   "outputs": [],
   "source": [
    "pca = PCA(n_components=2)\n",
    "H_reduced = pca.fit_transform(H)"
   ]
  },
  {
   "cell_type": "code",
   "execution_count": 19,
   "metadata": {
    "hidden": true
   },
   "outputs": [
    {
     "data": {
      "image/png": "[encoded data removed]",
      "text/plain": [
       "<Figure size 864x504 with 1 Axes>"
      ]
     },
     "metadata": {},
     "output_type": "display_data"
    }
   ],
   "source": [
    "f, ax = plt.subplots(figsize=(12, 7))\n",
    "\n",
    "clr_map = ['brown', 'black', 'red', 'orange', 'blue']\n",
    "for c_num, i in enumerate(range(0, 30000, 6000)):\n",
    "    x_plt = H_reduced[i:(i+6000), 0]\n",
    "    y_plt = H_reduced[i:(i+6000), 1]\n",
    "    ax.scatter(\n",
    "        x_plt, y_plt, c=clr_map[c_num]\n",
    "    )\n",
    "    \n",
    "plt.show()"
   ]
  },
  {
   "cell_type": "markdown",
   "metadata": {},
   "source": [
    "# Real data (chromosome 22)"
   ]
  },
  {
   "cell_type": "code",
   "execution_count": 4,
   "metadata": {},
   "outputs": [],
   "source": [
    "\n",
    "path = '/home/cole/Desktop/1000G/PHASE1/'\n",
    "\n",
    "filename = [s for s in os.listdir(path) if s[-3:] != '.gz']\n",
    "assert len(filename) == 1\n",
    "filename = filename[0]\n",
    "\n",
    "vcf_reader = vcf.Reader(open(path + filename, 'r'))\n",
    "\n",
    "for record in vcf_reader:\n",
    "    atts = [s for s in dir(record) if s[:2] != '__']\n",
    "    break"
   ]
  },
  {
   "cell_type": "code",
   "execution_count": 5,
   "metadata": {},
   "outputs": [
    {
     "name": "stdout",
     "output_type": "stream",
     "text": [
      "['ALT', 'CHROM', 'FILTER', 'FORMAT', 'ID', 'INFO', 'POS', 'QUAL', 'REF', '_compute_coordinates_for_indel', '_compute_coordinates_for_none_alt', '_compute_coordinates_for_snp', '_compute_coordinates_for_sv', '_sample_indexes', '_set_start_and_end', 'aaf', 'add_filter', 'add_format', 'add_info', 'affected_end', 'affected_start', 'alleles', 'call_rate', 'end', 'genotype', 'get_hets', 'get_hom_alts', 'get_hom_refs', 'get_unknowns', 'heterozygosity', 'is_deletion', 'is_indel', 'is_monomorphic', 'is_snp', 'is_sv', 'is_sv_precise', 'is_transition', 'nucl_diversity', 'num_called', 'num_het', 'num_hom_alt', 'num_hom_ref', 'num_unknown', 'samples', 'start', 'sv_end', 'var_subtype', 'var_type']\n",
      "============================================================\n",
      "['called', 'data', 'gt_alleles', 'gt_bases', 'gt_nums', 'gt_phase_char', 'gt_type', 'is_het', 'is_variant', 'phased', 'ploidity', 'sample', 'site']\n",
      "============================================================\n",
      "CALL: T|T 0|0 True HG00096\n",
      "REC: rs149201999 T ['T', C] 1.0\n"
     ]
    }
   ],
   "source": [
    "print(atts)\n",
    "print('='*60)\n",
    "\n",
    "call = record.samples[0]\n",
    "atts_call = [s for s in dir(call) if s[:2] != '__']\n",
    "\n",
    "print(atts_call)\n",
    "print('='*60)\n",
    "\n",
    "hg_names = dict()\n",
    "for i, c in enumerate(record.samples):\n",
    "    assert c.sample not in hg_names.keys()\n",
    "    hg_names[c.sample] = i\n",
    "\n",
    "print('CALL:', call.gt_bases, call.gt_nums, call.phased, call.sample)\n",
    "print('REC:', record.ID, record.REF, record.alleles, record.call_rate)"
   ]
  },
  {
   "cell_type": "code",
   "execution_count": 71,
   "metadata": {},
   "outputs": [
    {
     "name": "stdout",
     "output_type": "stream",
     "text": [
      "r_num=17300; nc=16383\n"
     ]
    },
    {
     "ename": "KeyboardInterrupt",
     "evalue": "",
     "output_type": "error",
     "traceback": [
      "\u001b[0;31m---------------------------------------------------------------------------\u001b[0m",
      "\u001b[0;31mKeyboardInterrupt\u001b[0m                         Traceback (most recent call last)",
      "\u001b[0;32m<ipython-input-71-3b18b5e84257>\u001b[0m in \u001b[0;36m<module>\u001b[0;34m()\u001b[0m\n\u001b[1;32m     27\u001b[0m \u001b[0;34m\u001b[0m\u001b[0m\n\u001b[1;32m     28\u001b[0m     \u001b[0;32mif\u001b[0m \u001b[0;34m(\u001b[0m\u001b[0mrecord_number\u001b[0m \u001b[0;34m%\u001b[0m \u001b[0;36m100\u001b[0m\u001b[0;34m)\u001b[0m \u001b[0;34m==\u001b[0m \u001b[0;36m0\u001b[0m\u001b[0;34m:\u001b[0m\u001b[0;34m\u001b[0m\u001b[0m\n\u001b[0;32m---> 29\u001b[0;31m         \u001b[0mnp\u001b[0m\u001b[0;34m.\u001b[0m\u001b[0msavetxt\u001b[0m\u001b[0;34m(\u001b[0m\u001b[0;34m'data/H.txt'\u001b[0m\u001b[0;34m,\u001b[0m \u001b[0mH\u001b[0m\u001b[0;34m)\u001b[0m\u001b[0;34m\u001b[0m\u001b[0m\n\u001b[0m\u001b[1;32m     30\u001b[0m         \u001b[0mclear_output\u001b[0m\u001b[0;34m(\u001b[0m\u001b[0;34m)\u001b[0m\u001b[0;34m\u001b[0m\u001b[0m\n\u001b[1;32m     31\u001b[0m         \u001b[0mprint\u001b[0m\u001b[0;34m(\u001b[0m\u001b[0;34m'r_num={0}; nc={1}'\u001b[0m\u001b[0;34m.\u001b[0m\u001b[0mformat\u001b[0m\u001b[0;34m(\u001b[0m\u001b[0mrecord_number\u001b[0m\u001b[0;34m,\u001b[0m \u001b[0mH\u001b[0m\u001b[0;34m.\u001b[0m\u001b[0mshape\u001b[0m\u001b[0;34m[\u001b[0m\u001b[0;36m1\u001b[0m\u001b[0;34m]\u001b[0m\u001b[0;34m)\u001b[0m\u001b[0;34m)\u001b[0m\u001b[0;34m\u001b[0m\u001b[0m\n",
      "\u001b[0;32m~/.virtualenvs/RL/lib/python3.5/site-packages/numpy/lib/npyio.py\u001b[0m in \u001b[0;36msavetxt\u001b[0;34m(fname, X, fmt, delimiter, newline, header, footer, comments, encoding)\u001b[0m\n\u001b[1;32m   1374\u001b[0m             \u001b[0;32mfor\u001b[0m \u001b[0mrow\u001b[0m \u001b[0;32min\u001b[0m \u001b[0mX\u001b[0m\u001b[0;34m:\u001b[0m\u001b[0;34m\u001b[0m\u001b[0m\n\u001b[1;32m   1375\u001b[0m                 \u001b[0;32mtry\u001b[0m\u001b[0;34m:\u001b[0m\u001b[0;34m\u001b[0m\u001b[0m\n\u001b[0;32m-> 1376\u001b[0;31m                     \u001b[0mv\u001b[0m \u001b[0;34m=\u001b[0m \u001b[0mformat\u001b[0m \u001b[0;34m%\u001b[0m \u001b[0mtuple\u001b[0m\u001b[0;34m(\u001b[0m\u001b[0mrow\u001b[0m\u001b[0;34m)\u001b[0m \u001b[0;34m+\u001b[0m \u001b[0mnewline\u001b[0m\u001b[0;34m\u001b[0m\u001b[0m\n\u001b[0m\u001b[1;32m   1377\u001b[0m                 \u001b[0;32mexcept\u001b[0m \u001b[0mTypeError\u001b[0m\u001b[0;34m:\u001b[0m\u001b[0;34m\u001b[0m\u001b[0m\n\u001b[1;32m   1378\u001b[0m                     raise TypeError(\"Mismatch between array dtype ('%s') and \"\n",
      "\u001b[0;31mKeyboardInterrupt\u001b[0m: "
     ]
    }
   ],
   "source": [
    "record.samples, record.ID\n",
    "col_names = []\n",
    "path = '/home/cole/Desktop/1000G/PHASE1/'\n",
    "\n",
    "filename = [s for s in os.listdir(path) if s[-3:] != '.gz']\n",
    "assert len(filename) == 1\n",
    "filename = filename[0]\n",
    "\n",
    "vcf_reader = vcf.Reader(open(path + filename, 'r'))\n",
    "n = len(hg_names)\n",
    "\n",
    "H = np.zeros((2 * n, 0), dtype=np.int8)\n",
    "\n",
    "for record_number, record in enumerate(vcf_reader):\n",
    "    if (record.call_rate != 1.0) or (not record.is_snp) or (record.num_called != n):\n",
    "        continue\n",
    "     \n",
    "    new_col = np.zeros((2*n, 1))\n",
    "    for call in record.samples:\n",
    "        h_row = 2 * hg_names[call.sample]\n",
    "        assert call.phased\n",
    "        \n",
    "        new_col[h_row, 0] = int(call.gt_nums[0])\n",
    "        new_col[h_row+1, 0] = int(call.gt_nums[-1])\n",
    "    \n",
    "    H = np.hstack([H, new_col])\n",
    "    col_names.append(record.ID)\n",
    "    \n",
    "    if (record_number % 100) == 0:\n",
    "        np.savetxt('data/H.txt', H)\n",
    "        clear_output()\n",
    "        print('r_num={0}; nc={1}'.format(record_number, H.shape[1]))\n",
    "        \n",
    "        f = open('data/variant_names.p', 'wb')\n",
    "        pkl.dump(col_names, f)\n",
    "        f.close()\n",
    "        \n",
    "    if H.shape[1] == 15000:\n",
    "        np.savetxt('data/H.txt', H)\n",
    "    \n",
    "clear_output()\n",
    "print('finished with %d columns' % H.shape[1])\n",
    "       \n",
    "    "
   ]
  },
  {
   "cell_type": "code",
   "execution_count": 6,
   "metadata": {},
   "outputs": [],
   "source": [
    "col_names = []\n",
    "path = '/home/cole/Desktop/1000G/PHASE1/'\n",
    "\n",
    "filename = [s for s in os.listdir(path) if s[-3:] != '.gz']\n",
    "assert len(filename) == 1\n",
    "filename = filename[0]\n",
    "\n",
    "vcf_reader = vcf.Reader(open(path + filename, 'r'))\n",
    "n = len(hg_names)\n",
    "\n",
    "Hs = 0\n",
    "for record_number, record in enumerate(vcf_reader):\n",
    "    if (record.call_rate != 1.0) or (not record.is_snp) or (record.num_called != n):\n",
    "        continue\n",
    "    \n",
    "    col_names.append(record.ID)\n",
    "    Hs += 1\n",
    "    \n",
    "    if Hs == 16285:\n",
    "        break\n",
    "    \n",
    "f = open('data/variant_names.p', 'wb')\n",
    "pkl.dump(col_names, f)\n",
    "f.close()\n",
    "        \n",
    "    "
   ]
  }
 ],
 "metadata": {
  "kernelspec": {
   "display_name": "Python 3",
   "language": "python",
   "name": "python3"
  },
  "language_info": {
   "codemirror_mode": {
    "name": "ipython",
    "version": 3
   },
   "file_extension": ".py",
   "mimetype": "text/x-python",
   "name": "python",
   "nbconvert_exporter": "python",
   "pygments_lexer": "ipython3",
   "version": "3.5.2"
  },
  "varInspector": {
   "cols": {
    "lenName": 16,
    "lenType": 16,
    "lenVar": 40
   },
   "kernels_config": {
    "python": {
     "delete_cmd_postfix": "",
     "delete_cmd_prefix": "del ",
     "library": "var_list.py",
     "varRefreshCmd": "print(var_dic_list())"
    },
    "r": {
     "delete_cmd_postfix": ") ",
     "delete_cmd_prefix": "rm(",
     "library": "var_list.r",
     "varRefreshCmd": "cat(var_dic_list()) "
    }
   },
   "types_to_exclude": [
    "module",
    "function",
    "builtin_function_or_method",
    "instance",
    "_Feature"
   ],
   "window_display": false
  }
 },
 "nbformat": 4,
 "nbformat_minor": 2
}
